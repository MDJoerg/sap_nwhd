{
 "cells": [
  {
   "attachments": {},
   "cell_type": "markdown",
   "id": "8b30371f",
   "metadata": {},
   "source": [
    "# Import other python packages \n",
    "\n",
    "The NWHD Connector use features of the [PyDEEN Package](https://pypi.org/project/pydeen/). For Data Science activities the pandas library is used to return Dataframe objects.\n"
   ]
  },
  {
   "cell_type": "code",
   "execution_count": null,
   "id": "dbe7999b",
   "metadata": {},
   "outputs": [],
   "source": [
    "# import libs \n",
    "import pandas as pd\n",
    "from pynwhd import NWHDConnector"
   ]
  },
  {
   "cell_type": "markdown",
   "id": "6efd2f08",
   "metadata": {},
   "source": [
    "# Configure the connector\n",
    "Maintain your configuration here."
   ]
  },
  {
   "cell_type": "code",
   "execution_count": null,
   "id": "9c170d03",
   "metadata": {},
   "outputs": [],
   "source": [
    "# configure backend and parameters\n",
    "sid       = \"D01\"\n",
    "desc      = \"SAP Dev\"\n",
    "client    = \"100\"\n",
    "url       = \"http://saphost\"\n",
    "api_path  = \"/nwhd_rest/v1\" \n",
    "source    = \"00505699C4E91EDDA6DDC77FA530E9ED\"\n",
    "\n",
    "date_from = \"20230101\"\n",
    "date_to   = \"20230115\"\n",
    "max_rows  = 100000"
   ]
  },
  {
   "cell_type": "markdown",
   "id": "622dbbc6",
   "metadata": {},
   "source": [
    "# create a connector object in script mode and configure\n",
    "\n",
    "At the first start you have to enter the authentification details via menu. You can save and reuse it for next calls. The information will be safed encoded in the current path.\n",
    "\n",
    "A list of all usable source systems and the later required source GUID is displayed. The set_source command (check the GUID) will display a list of available numeric value keys."
   ]
  },
  {
   "cell_type": "code",
   "execution_count": null,
   "id": "d8feea14",
   "metadata": {},
   "outputs": [],
   "source": [
    "# use connector in scripting mode and configure\n",
    "connector = NWHDConnector(sid, url, client, desc, api_path)\n",
    "connector.set_date_interval(date_from, date_to)\n",
    "connector.set_max_rows(max_rows)\n",
    "connector.set_source(source)"
   ]
  },
  {
   "cell_type": "markdown",
   "id": "c4856ad3",
   "metadata": {},
   "source": [
    "# Get prepared numeric values and merge"
   ]
  },
  {
   "cell_type": "code",
   "execution_count": null,
   "id": "3d496d33",
   "metadata": {},
   "outputs": [],
   "source": [
    "# get prepared timeseries data for single values\n",
    "df1 = connector.get_df_numeric(\"UserMemory:SessionMemory:Sum\")\n",
    "df1.plot()\n",
    "\n",
    "df2 = connector.get_df_numeric(\"BALog:LastHour:AllTypeMsgError\")\n",
    "df2.plot()\n",
    "\n",
    "df3 = connector.get_df_numeric(\"BALog:DB:Count\")\n",
    "df3.plot()\n",
    "\n",
    "# merge it\n",
    "# join dataframes via index\n",
    "df_join = pd.concat([df1, df2, df3], axis=1)\n",
    "df_join\n",
    "df_join.plot()"
   ]
  },
  {
   "cell_type": "markdown",
   "id": "163f506c",
   "metadata": {},
   "source": [
    "# Select multiple numeric values"
   ]
  },
  {
   "cell_type": "code",
   "execution_count": null,
   "id": "b7db9abd",
   "metadata": {},
   "outputs": [],
   "source": [
    "# get data as joined dataframe via multiple value columns\n",
    "set = [\n",
    "    \"UserMemory:SessionMemory:Sum\",\n",
    "    \"UserMemory:SessionMemory:Max\",\n",
    "    \"UserMemory:SessionMemory:Avg\",\n",
    "    \"Users:Current:LoggedOn\",\n",
    "    \"Users:Current:Modes\",\n",
    "    \"Users:Current:Sessions\"\n",
    "]\n",
    "\n",
    "df_set = connector.get_df_numeric_multiple(set)\n",
    "df_set.plot()\n",
    "df_set.dtypes\n",
    "df_set.index"
   ]
  },
  {
   "cell_type": "markdown",
   "id": "23bdea3b",
   "metadata": {},
   "source": [
    "# Expert mode: raw extraction and preparation"
   ]
  },
  {
   "cell_type": "code",
   "execution_count": null,
   "id": "bff88033",
   "metadata": {},
   "outputs": [],
   "source": [
    "# manual extraction & manipulation\n",
    "df_usage = connector.get_numeric_values_as_dataframe(source, \"WP\", \"TypeDIA\", \"Usage\", date_from=date_from, date_to=date_to, max_rows=max_rows, prepare=False)\n",
    "\n",
    "df_usage['TIMESTAMP'] = pd.to_datetime(df_usage['TIMESTAMP'], format='%Y-%m-%d %H:%M')\n",
    "df_usage.set_index(pd.DatetimeIndex(df_usage.TIMESTAMP), inplace=True)\n",
    "\n",
    "df_usage.drop('TIMESTAMP', axis=1, inplace=True)\n",
    "df_usage.rename(columns={'VALUE': 'WP:TypeDIA:Usage'}, inplace=True)\n",
    "\n",
    "df_usage.plot()\n",
    "df_usage.dtypes\n",
    "df_usage.index"
   ]
  }
 ],
 "metadata": {
  "kernelspec": {
   "display_name": "Python 3 (ipykernel)",
   "language": "python",
   "name": "python3"
  },
  "language_info": {
   "codemirror_mode": {
    "name": "ipython",
    "version": 3
   },
   "file_extension": ".py",
   "mimetype": "text/x-python",
   "name": "python",
   "nbconvert_exporter": "python",
   "pygments_lexer": "ipython3",
   "version": "3.9.12"
  }
 },
 "nbformat": 4,
 "nbformat_minor": 5
}
