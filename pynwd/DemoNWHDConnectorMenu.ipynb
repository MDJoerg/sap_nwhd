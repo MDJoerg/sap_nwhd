{
 "cells": [
  {
   "cell_type": "markdown",
   "id": "c51a640c",
   "metadata": {},
   "source": [
    "# Import other python packages \n",
    "\n",
    "The NWHD Connector use features of the [PyDEEN Package](https://pypi.org/project/pydeen/). For Data Science activities the pandas library is used to return Dataframe objects."
   ]
  },
  {
   "cell_type": "code",
   "execution_count": null,
   "id": "3205012d",
   "metadata": {},
   "outputs": [],
   "source": [
    "# import libs \n",
    "import pandas as pd\n",
    "from pynwhd import NWHDConnector\n",
    "from pydeen.types import Factory"
   ]
  },
  {
   "cell_type": "markdown",
   "id": "f595ae4e",
   "metadata": {},
   "source": [
    "# Open Connector menu\n",
    "\n",
    "The Connector menu is a menu guided tour to your NWHD data. \n",
    "\n",
    "1. Open the SAP backend system from list of your prepared nwhd_systems.json config file\n",
    "2. At the first start enter your authentification via menu. Save after finished.\n",
    "3. Navigate through your data and extract NWHD numeric data\n",
    "4. Save your results as Excel, CSV or Pandas pickle files for later use\n",
    "5. Export result objects to the PyDEEN datahub and remember the keys for later use "
   ]
  },
  {
   "cell_type": "code",
   "execution_count": null,
   "id": "d59770be",
   "metadata": {},
   "outputs": [],
   "source": [
    "# create connector and use menu  \n",
    "connector = NWHDConnector()\n",
    "connector.menu()"
   ]
  },
  {
   "cell_type": "markdown",
   "id": "046ba860",
   "metadata": {},
   "source": [
    "# Optional - get result objects as "
   ]
  }
 ],
 "metadata": {
  "kernelspec": {
   "display_name": "Python 3 (ipykernel)",
   "language": "python",
   "name": "python3"
  },
  "language_info": {
   "codemirror_mode": {
    "name": "ipython",
    "version": 3
   },
   "file_extension": ".py",
   "mimetype": "text/x-python",
   "name": "python",
   "nbconvert_exporter": "python",
   "pygments_lexer": "ipython3",
   "version": "3.9.12"
  }
 },
 "nbformat": 4,
 "nbformat_minor": 5
}
